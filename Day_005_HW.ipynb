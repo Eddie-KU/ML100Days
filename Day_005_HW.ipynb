{
 "cells": [
  {
   "cell_type": "markdown",
   "metadata": {},
   "source": [
    "作業目標\n",
    "計算有缺失值的資料，統計量實作\n",
    "作業重點\n",
    "當遇到缺失值有函式可以處理，不須額外寫程式刪除\n",
    "計算統計量時不能出現缺失值\n",
    "\n",
    "題目:\n",
    "english_score = np.array([55,89,76,65,48,70])\n",
    "math_score = np.array([60,85,60,68,np.nan,60])\n",
    "chinese_score = np.array([65,90,82,72,66,77])\n",
    "上3列共六位同學的英文、數學、國文成績，第一個元素代表第一位同學，舉例第一位同學英文55分、數學60分、國文65分，今天第五位同學因某原因沒來考試，導致數學成績缺值，運用上列數據回答下列問題。\n",
    "\n",
    "請計算各科成績平均、最大值、最小值、標準差，其中數學缺一筆資料可忽略?\n",
    "第五位同學補考數學後成績為55，請計算補考後數學成績平均、最大值、最小值、標準差?\n",
    "用補考後資料找出與國文成績相關係數最高的學科?"
   ]
  },
  {
   "cell_type": "code",
   "execution_count": 1,
   "metadata": {},
   "outputs": [],
   "source": [
    "import numpy as np"
   ]
  },
  {
   "cell_type": "code",
   "execution_count": 2,
   "metadata": {},
   "outputs": [],
   "source": [
    "english_score = np.array([55,89,76,65,48,70])\n",
    "math_score = np.array([60,85,60,68,np.nan,60])\n",
    "chinese_score = np.array([65,90,82,72,66,77])"
   ]
  },
  {
   "cell_type": "code",
   "execution_count": 6,
   "metadata": {},
   "outputs": [
    {
     "data": {
      "text/plain": [
       "[array([55, 89, 76, 65, 48, 70]),\n",
       " array([60., 85., 60., 68., nan, 60.]),\n",
       " array([65, 90, 82, 72, 66, 77])]"
      ]
     },
     "execution_count": 6,
     "metadata": {},
     "output_type": "execute_result"
    }
   ],
   "source": [
    "a = [english_score, math_score, chinese_score]\n",
    "a\n"
   ]
  },
  {
   "cell_type": "code",
   "execution_count": 48,
   "metadata": {},
   "outputs": [
    {
     "name": "stdout",
     "output_type": "stream",
     "text": [
      "#1\n",
      "數學nan資料忽略後 英文、數學、中文 分別為: \n",
      "\n",
      "各科平均值: [67.16666667 64.66666667 75.33333333]\n",
      "各科最大值: [89 85 90]\n",
      "各科最小值: [48 55 65]\n",
      "各科標準差: [13.43399502  9.86013297  8.8254682 ]\n"
     ]
    }
   ],
   "source": [
    "print(\"#1\")\n",
    "print(\"數學nan資料忽略後 英文、數學、中文 分別為: \")\n",
    "print()\n",
    "print(\"各科平均值: \"+ str(np.nanmean(a, axis = 1)))\n",
    "print(\"各科最大值: \"+ str(np.nanmax(a, axis = 1)))\n",
    "print(\"各科最小值: \"+ str(np.nanmin(a, axis = 1)))\n",
    "print(\"各科標準差: \"+ str(np.nanstd(a, axis = 1)))\n"
   ]
  },
  {
   "cell_type": "code",
   "execution_count": 51,
   "metadata": {},
   "outputs": [
    {
     "name": "stdout",
     "output_type": "stream",
     "text": [
      "#2\n",
      "補考數學後\n",
      "數學分數  平均 64.66666666666667 最大值 85 最小值 55 標準差 9.860132971832694\n"
     ]
    }
   ],
   "source": [
    "print(\"#2\")\n",
    "math_score[4] = 55\n",
    "print(\"補考數學後\")\n",
    "print(\"數學分數 \",\"平均\", np.mean(math_score), \"最大值\", np.max(math_score),\"最小值\",np.nanmin(math_score),\"標準差\",np.nanstd(math_score) )\n"
   ]
  },
  {
   "cell_type": "code",
   "execution_count": 55,
   "metadata": {},
   "outputs": [
    {
     "name": "stdout",
     "output_type": "stream",
     "text": [
      "#3\n",
      "國文與數學相關係數 [[1.         0.74056803]\n",
      " [0.74056803 1.        ]]\n",
      "國文與英文相關係數 [[1.         0.97792828]\n",
      " [0.97792828 1.        ]]\n",
      "\n",
      "國文與英文相關係數較高\n"
     ]
    }
   ],
   "source": [
    "print(\"#3\")\n",
    "print(\"國文與數學相關係數\", np.corrcoef(chinese_score, math_score))\n",
    "print(\"國文與英文相關係數\", np.corrcoef(chinese_score, english_score))\n",
    "print()\n",
    "print(\"國文與英文相關係數較高\")"
   ]
  },
  {
   "cell_type": "code",
   "execution_count": null,
   "metadata": {},
   "outputs": [],
   "source": []
  }
 ],
 "metadata": {
  "kernelspec": {
   "display_name": "Python 3",
   "language": "python",
   "name": "python3"
  },
  "language_info": {
   "codemirror_mode": {
    "name": "ipython",
    "version": 3
   },
   "file_extension": ".py",
   "mimetype": "text/x-python",
   "name": "python",
   "nbconvert_exporter": "python",
   "pygments_lexer": "ipython3",
   "version": "3.7.3"
  }
 },
 "nbformat": 4,
 "nbformat_minor": 2
}
